{
 "cells": [
  {
   "cell_type": "code",
   "execution_count": 1,
   "id": "fe9e271c",
   "metadata": {},
   "outputs": [],
   "source": [
    "using Printf"
   ]
  },
  {
   "cell_type": "code",
   "execution_count": 2,
   "id": "77144944",
   "metadata": {},
   "outputs": [
    {
     "data": {
      "text/plain": [
       "\"Herman\""
      ]
     },
     "execution_count": 2,
     "metadata": {},
     "output_type": "execute_result"
    }
   ],
   "source": [
    "name=\"Herman\""
   ]
  },
  {
   "cell_type": "code",
   "execution_count": 3,
   "id": "c1fb371a",
   "metadata": {},
   "outputs": [
    {
     "name": "stdout",
     "output_type": "stream",
     "text": [
      "Hello Herman"
     ]
    }
   ],
   "source": [
    "@printf(\"Hello %s\", name)"
   ]
  },
  {
   "cell_type": "code",
   "execution_count": 4,
   "id": "cf889211",
   "metadata": {},
   "outputs": [
    {
     "data": {
      "text/plain": [
       "\"Hello Herman\""
      ]
     },
     "execution_count": 4,
     "metadata": {},
     "output_type": "execute_result"
    }
   ],
   "source": [
    "@sprintf(\"Hello %s\", name)"
   ]
  },
  {
   "cell_type": "code",
   "execution_count": 5,
   "id": "0468e613",
   "metadata": {},
   "outputs": [
    {
     "name": "stdout",
     "output_type": "stream",
     "text": [
      "i"
     ]
    }
   ],
   "source": [
    "ch='i'\n",
    "@printf(\"%s\", ch)"
   ]
  },
  {
   "cell_type": "code",
   "execution_count": 6,
   "id": "b03239c9",
   "metadata": {},
   "outputs": [
    {
     "name": "stdout",
     "output_type": "stream",
     "text": [
      "Value of x is 100"
     ]
    }
   ],
   "source": [
    "x=100\n",
    "@printf(\"Value of x is %d\",x)"
   ]
  },
  {
   "cell_type": "code",
   "execution_count": 7,
   "id": "c6bbe6ae",
   "metadata": {},
   "outputs": [
    {
     "data": {
      "text/plain": [
       "100.5"
      ]
     },
     "execution_count": 7,
     "metadata": {},
     "output_type": "execute_result"
    }
   ],
   "source": [
    "y=100.5"
   ]
  },
  {
   "cell_type": "code",
   "execution_count": 8,
   "id": "a9410ff7",
   "metadata": {},
   "outputs": [
    {
     "name": "stdout",
     "output_type": "stream",
     "text": [
      "Value of x is 100.500000"
     ]
    }
   ],
   "source": [
    "@printf(\"Value of x is %f\",y)"
   ]
  },
  {
   "cell_type": "code",
   "execution_count": 9,
   "id": "022555dd",
   "metadata": {},
   "outputs": [
    {
     "name": "stdout",
     "output_type": "stream",
     "text": [
      "Value of x is 100.50"
     ]
    }
   ],
   "source": [
    "@printf(\"Value of x is %.2f\",y)"
   ]
  },
  {
   "cell_type": "code",
   "execution_count": 11,
   "id": "787ee0a4",
   "metadata": {},
   "outputs": [
    {
     "name": "stdout",
     "output_type": "stream",
     "text": [
      "2.468e+10"
     ]
    }
   ],
   "source": [
    "z=24683417865\n",
    "@printf(\"%.3e\",z)"
   ]
  },
  {
   "cell_type": "code",
   "execution_count": null,
   "id": "8f90618f",
   "metadata": {},
   "outputs": [],
   "source": []
  }
 ],
 "metadata": {
  "kernelspec": {
   "display_name": "Julia 1.8.3",
   "language": "julia",
   "name": "julia-1.8"
  },
  "language_info": {
   "file_extension": ".jl",
   "mimetype": "application/julia",
   "name": "julia",
   "version": "1.8.3"
  }
 },
 "nbformat": 4,
 "nbformat_minor": 5
}
